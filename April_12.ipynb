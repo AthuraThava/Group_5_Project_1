{
 "cells": [
  {
   "cell_type": "code",
   "execution_count": 12,
   "id": "d98b63f9-6e9c-49f7-86e3-0a6fd1ef5b1a",
   "metadata": {},
   "outputs": [],
   "source": [
    "import yfinance as yf\n",
    "import pandas as pd\n",
    "import numpy as np\n",
    "import matplotlib.pyplot as plt\n",
    "import seaborn as sns\n",
    "import datetime as dt\n",
    "from pathlib import Path\n",
    "import sys\n",
    "#import fire\n",
    "#import questionary"
   ]
  },
  {
   "cell_type": "code",
   "execution_count": 16,
   "id": "e816838f-5c7d-4a7c-8161-ed25e5e3aa11",
   "metadata": {},
   "outputs": [],
   "source": [
    "# Define the tickers\n",
    "tickers = [\"AXON\", \"BA\", \"GD\",'NEM', 'FNV', 'GOLD', 'GS', 'MS', 'SCHW', 'NVO', 'REGN', 'VRTX', 'ANET', 'DELL', 'HP', 'IAU', 'URE',\n",
    "          'ELD', 'SSP', 'UFPI', 'WFG', 'BKNG', 'ABNB', 'RCL', 'NVDA', 'TSM', 'AVGO']\n",
    "benchmark_ticker = '^GSPC'\n",
    "start_date = \"2021-04-01\"\n",
    "end_date = \"2023-04-01\"\n",
    "\n"
   ]
  },
  {
   "cell_type": "code",
   "execution_count": 17,
   "id": "91a15a0a-ecc8-4b79-974c-237df1ac8e45",
   "metadata": {},
   "outputs": [
    {
     "name": "stdout",
     "output_type": "stream",
     "text": [
      "[*********************100%***********************]  27 of 27 completed\n",
      "[*********************100%***********************]  1 of 1 completed\n"
     ]
    }
   ],
   "source": [
    "stock_data = yf.download(tickers, start=start_date, end=end_date)\n",
    "benchmark_data = yf.download(benchmark_ticker, start=start_date, end=end_date)\n"
   ]
  },
  {
   "cell_type": "code",
   "execution_count": 18,
   "id": "4a29a3ce-8f5e-42c3-89fb-e59191eff4e6",
   "metadata": {},
   "outputs": [],
   "source": [
    "stock_returns = stock_data['Close'].pct_change().dropna()\n",
    "benchmark_returns = benchmark_data['Close'].pct_change().dropna()\n",
    "#stock_returns.head(3)\n",
    "#benchmark_returns.head(3)"
   ]
  },
  {
   "cell_type": "code",
   "execution_count": 63,
   "id": "91b95f5b-cb45-4286-95ff-e8793158cdca",
   "metadata": {},
   "outputs": [
    {
     "name": "stdout",
     "output_type": "stream",
     "text": [
      "[*********************100%***********************]  1 of 1 completed\n",
      "[*********************100%***********************]  1 of 1 completed\n"
     ]
    },
    {
     "data": {
      "text/html": [
       "<div>\n",
       "<style scoped>\n",
       "    .dataframe tbody tr th:only-of-type {\n",
       "        vertical-align: middle;\n",
       "    }\n",
       "\n",
       "    .dataframe tbody tr th {\n",
       "        vertical-align: top;\n",
       "    }\n",
       "\n",
       "    .dataframe thead th {\n",
       "        text-align: right;\n",
       "    }\n",
       "</style>\n",
       "<table border=\"1\" class=\"dataframe\">\n",
       "  <thead>\n",
       "    <tr style=\"text-align: right;\">\n",
       "      <th></th>\n",
       "      <th>Close</th>\n",
       "      <th>Close_benchmark</th>\n",
       "    </tr>\n",
       "    <tr>\n",
       "      <th>Date</th>\n",
       "      <th></th>\n",
       "      <th></th>\n",
       "    </tr>\n",
       "  </thead>\n",
       "  <tbody>\n",
       "    <tr>\n",
       "      <th>2020-12-11</th>\n",
       "      <td>-0.037731</td>\n",
       "      <td>-0.001265</td>\n",
       "    </tr>\n",
       "    <tr>\n",
       "      <th>2020-12-14</th>\n",
       "      <td>-0.066427</td>\n",
       "      <td>-0.004359</td>\n",
       "    </tr>\n",
       "    <tr>\n",
       "      <th>2020-12-15</th>\n",
       "      <td>-0.040000</td>\n",
       "      <td>0.012921</td>\n",
       "    </tr>\n",
       "  </tbody>\n",
       "</table>\n",
       "</div>"
      ],
      "text/plain": [
       "               Close  Close_benchmark\n",
       "Date                                 \n",
       "2020-12-11 -0.037731        -0.001265\n",
       "2020-12-14 -0.066427        -0.004359\n",
       "2020-12-15 -0.040000         0.012921"
      ]
     },
     "execution_count": 63,
     "metadata": {},
     "output_type": "execute_result"
    }
   ],
   "source": [
    "\n",
    "stock_tickers= \"ABNB\"    \n",
    "benchmark_ticker = '^GSPC'\n",
    "start_date = '2020-01-01'\n",
    "end_date = '2021-12-31'\n",
    "benchmark_data = yf.download(benchmark_ticker, start=start_date, end=end_date)\n",
    "# Download stock and benchmark index data\n",
    "stock_data = yf.download(stock_tickers, start=start_date, end=end_date)\n",
    "\n",
    "# Calculate daily returns\n",
    "stock_returns = stock_data['Close'].pct_change().dropna()\n",
    "benchmark_returns = benchmark_data['Close'].pct_change().dropna()\n",
    "\n",
    "stock_df = pd.DataFrame(stock_returns).join(benchmark_returns, rsuffix = \"_benchmark\")\n",
    "\n",
    "\n",
    "stock_df.head(3)\n"
   ]
  },
  {
   "cell_type": "code",
   "execution_count": 62,
   "id": "0b779f52-bae5-4f37-9948-a75f647af0c7",
   "metadata": {},
   "outputs": [
    {
     "name": "stdout",
     "output_type": "stream",
     "text": [
      "[*********************100%***********************]  1 of 1 completed\n",
      "[*********************100%***********************]  1 of 1 completed\n",
      "[*********************100%***********************]  1 of 1 completed\n",
      "[*********************100%***********************]  1 of 1 completed\n",
      "[*********************100%***********************]  1 of 1 completed\n",
      "[*********************100%***********************]  1 of 1 completed\n",
      "[*********************100%***********************]  1 of 1 completed\n",
      "[*********************100%***********************]  1 of 1 completed\n",
      "[*********************100%***********************]  1 of 1 completed\n",
      "[*********************100%***********************]  1 of 1 completed\n",
      "[*********************100%***********************]  1 of 1 completed\n",
      "[*********************100%***********************]  1 of 1 completed\n",
      "[*********************100%***********************]  1 of 1 completed\n",
      "[*********************100%***********************]  1 of 1 completed\n",
      "[*********************100%***********************]  1 of 1 completed\n",
      "[*********************100%***********************]  1 of 1 completed\n",
      "[*********************100%***********************]  1 of 1 completed\n",
      "[*********************100%***********************]  1 of 1 completed\n",
      "[*********************100%***********************]  1 of 1 completed\n",
      "[*********************100%***********************]  1 of 1 completed\n",
      "[*********************100%***********************]  1 of 1 completed\n",
      "[*********************100%***********************]  1 of 1 completed\n",
      "[*********************100%***********************]  1 of 1 completed\n",
      "[*********************100%***********************]  1 of 1 completed\n",
      "[*********************100%***********************]  1 of 1 completed\n",
      "[*********************100%***********************]  1 of 1 completed\n",
      "[*********************100%***********************]  1 of 1 completed\n",
      "[*********************100%***********************]  1 of 1 completed\n",
      "[{'ticker': 'AXON', 'beta': 1.10162349507507, 'standard_deviation': 0.0355549254863659, 'sharpe_ratio': 0.03210998634069066, 'alpha': 0.0010515607613446323}, {'ticker': 'BA', 'beta': 1.686615962352318, 'standard_deviation': 0.04212526149273228, 'sharpe_ratio': -0.023682402279897846, 'alpha': -0.0016151075351153983}, {'ticker': 'GD', 'beta': 0.8865523170941174, 'standard_deviation': 0.019573546163626766, 'sharpe_ratio': -0.020656754616897314, 'alpha': -0.0003028679910981771}, {'ticker': 'NEM', 'beta': 0.4132147768141019, 'standard_deviation': 0.02393131125278841, 'sharpe_ratio': 0.003782991818761126, 'alpha': 0.000617474753626694}, {'ticker': 'FNV', 'beta': 0.2857645341739331, 'standard_deviation': 0.022190006468023552, 'sharpe_ratio': -0.00408978737091146, 'alpha': 0.0005504427608202622}, {'ticker': 'GOLD', 'beta': 0.39811886664211377, 'standard_deviation': 0.025331824103651288, 'sharpe_ratio': -0.021458805722134468, 'alpha': -3.725117679538798e-06}, {'ticker': 'GS', 'beta': 1.2330109021575957, 'standard_deviation': 0.02584568121363672, 'sharpe_ratio': 0.016467792455288146, 'alpha': 0.00021683318827622386}, {'ticker': 'MS', 'beta': 1.3892764246142808, 'standard_deviation': 0.028086248257689975, 'sharpe_ratio': 0.027343402299034748, 'alpha': 0.0004192212654384939}, {'ticker': 'SCHW', 'beta': 1.1188648655640443, 'standard_deviation': 0.02735704138041477, 'sharpe_ratio': 0.021468823073003032, 'alpha': 0.0004811838227545826}, {'ticker': 'NVO', 'beta': 0.5734477434544164, 'standard_deviation': 0.017768564243202934, 'sharpe_ratio': 0.030759982578625337, 'alpha': 0.0009300902779876908}, {'ticker': 'REGN', 'beta': 0.5735951922994318, 'standard_deviation': 0.022471762421984284, 'sharpe_ratio': 0.01926822936742371, 'alpha': 0.0008162751743034924}, {'ticker': 'VRTX', 'beta': 0.7796397099822271, 'standard_deviation': 0.023594662116851437, 'sharpe_ratio': -0.024805364803055042, 'alpha': -0.0003880035281998373}, {'ticker': 'ANET', 'beta': 1.0475329586552504, 'standard_deviation': 0.02651982390212402, 'sharpe_ratio': 0.05629139701749422, 'alpha': 0.001451646007412764}, {'ticker': 'DELL', 'beta': 1.0660179288968392, 'standard_deviation': 0.02540351274581855, 'sharpe_ratio': 0.0365763688255453, 'alpha': 0.0008708182096025923}, {'ticker': 'HP', 'beta': 1.76020117196743, 'standard_deviation': 0.04801531125091178, 'sharpe_ratio': -0.020243312619922786, 'alpha': -0.001655513007405378}, {'ticker': 'IAU', 'beta': 0.10043679892633078, 'standard_deviation': 0.010542059768556808, 'sharpe_ratio': -0.04811769229404478, 'alpha': 0.00029991983432641633}, {'ticker': 'URE', 'beta': 2.035425915749009, 'standard_deviation': 0.038777457156238045, 'sharpe_ratio': 0.013043155988897649, 'alpha': -0.0004233865611837232}, {'ticker': 'ELD', 'beta': 0.18267958971970125, 'standard_deviation': 0.009117622292095591, 'sharpe_ratio': -0.13326268280123643, 'alpha': -0.0004824067429495196}, {'ticker': 'SSP', 'beta': 1.6130413583204546, 'standard_deviation': 0.04655949646947986, 'sharpe_ratio': 0.014736395742001508, 'alpha': 0.0001363751294119642}, {'ticker': 'UFPI', 'beta': 1.2558399326855334, 'standard_deviation': 0.02828474641597028, 'sharpe_ratio': 0.02834852382883491, 'alpha': 0.0005729198669986672}, {'ticker': 'WFG', 'beta': 1.138757820864903, 'standard_deviation': 0.03553745960756155, 'sharpe_ratio': 0.03633461947195288, 'alpha': 0.0011679400305187287}, {'ticker': 'BKNG', 'beta': 1.1408204998857379, 'standard_deviation': 0.027586951003599085, 'sharpe_ratio': -0.00850352346905068, 'alpha': -0.00036125732082840033}, {'ticker': 'ABNB', 'beta': 1.1077937526237598, 'standard_deviation': 0.03446247720866614, 'sharpe_ratio': 0.0038644240131069435, 'alpha': 2.223505132401709e-05}, {'ticker': 'RCL', 'beta': 1.7733993550778322, 'standard_deviation': 0.05491268371379791, 'sharpe_ratio': -0.008670338533769122, 'alpha': -0.0011709921114832422}, {'ticker': 'NVDA', 'beta': 1.416149712180431, 'standard_deviation': 0.032630505829736485, 'sharpe_ratio': 0.08612136085448735, 'alpha': 0.0024393357819297383}, {'ticker': 'TSM', 'beta': 0.9695431431584575, 'standard_deviation': 0.02508362354612422, 'sharpe_ratio': 0.03190243581609753, 'alpha': 0.0008283714155146037}, {'ticker': 'AVGO', 'beta': 1.2788035886672098, 'standard_deviation': 0.026134707358975485, 'sharpe_ratio': 0.034048756079329494, 'alpha': 0.000640412750084837}]\n"
     ]
    }
   ],
   "source": [
    "def find_metrics(stock_tickers, benchmark_data, start_date, end_date):\n",
    "\n",
    "    # Download stock and benchmark index data\n",
    "    stock_data = yf.download(stock_tickers, start=start_date, end=end_date)\n",
    "    \n",
    "\n",
    "    # Calculate daily returns\n",
    "    stock_returns = stock_data['Close'].pct_change().dropna()\n",
    "    benchmark_returns = benchmark_data['Close'].pct_change().dropna()\n",
    "    \n",
    "    stock_df = pd.DataFrame(stock_returns).join(benchmark_returns, rsuffix = \"_benchmark\")\n",
    "    stock_returns = stock_df[\"Close\"]\n",
    "    benchmark_returns = stock_df[\"Close_benchmark\"]\n",
    "\n",
    "    # Calculate risk metrics    \n",
    "    #filter benchmark_returns  by the highest/lowest date of stock_returns\n",
    "    #take min and max date in stock_returns --> filter benchmark_returns by that date\n",
    "    \n",
    "    \n",
    "    beta = np.cov(stock_returns, benchmark_returns)[0][1] / np.var(benchmark_returns)\n",
    "    standard_deviation = np.std(stock_returns)\n",
    "    sharpe_ratio = (stock_returns.mean() - benchmark_returns.mean()) / stock_returns.std()\n",
    "    alpha = stock_returns.mean() - beta * benchmark_returns.mean()\n",
    "            \n",
    "    tickers_dict = {}\n",
    "    tickers_dict[\"ticker\"] = stock_ticker\n",
    "    tickers_dict[\"beta\"] = beta\n",
    "    tickers_dict[\"standard_deviation\"] = standard_deviation\n",
    "    tickers_dict[\"sharpe_ratio\"] = sharpe_ratio\n",
    "    tickers_dict[\"alpha\"] = alpha\n",
    "\n",
    "    return tickers_dict\n",
    "\n",
    "benchmark_ticker = '^GSPC'\n",
    "start_date = '2020-01-01'\n",
    "end_date = '2021-12-31'\n",
    "benchmark_data = yf.download(benchmark_ticker, start=start_date, end=end_date)\n",
    "all_ticker_metrics = []\n",
    "\n",
    "for stock_ticker in tickers:\n",
    "    ticker_metrics = find_metrics(stock_ticker, benchmark_data, start_date, end_date)\n",
    "    all_ticker_metrics.append(ticker_metrics)\n",
    "    \n",
    "    \n",
    "print (all_ticker_metrics)"
   ]
  },
  {
   "cell_type": "code",
   "execution_count": null,
   "id": "46095d76-51e9-4683-aea5-b10391e29509",
   "metadata": {},
   "outputs": [],
   "source": [
    "all_ticker_metrics"
   ]
  },
  {
   "cell_type": "code",
   "execution_count": null,
   "id": "4e08b3c4-0b17-402a-a28b-928939bbf5b2",
   "metadata": {},
   "outputs": [],
   "source": []
  },
  {
   "cell_type": "code",
   "execution_count": null,
   "id": "1accc64e-2e14-4897-82cf-296e8d980525",
   "metadata": {},
   "outputs": [],
   "source": []
  },
  {
   "cell_type": "code",
   "execution_count": null,
   "id": "aa8c4cef-4455-487e-afac-a906aa8623a4",
   "metadata": {},
   "outputs": [],
   "source": [
    "\"\"\"\n",
    "beta = np.cov(stock_returns, benchmark_returns) / np.var(benchmark_returns)\n",
    "standard_deviation = np.std(stock_returns)\n",
    "sharpe_ratio = (stock_returns.mean() - benchmark_returns.mean()) / stock_returns.std()\n",
    "alpha = stock_returns.mean() - beta * benchmark_returns.mean()\n",
    "\"\"\""
   ]
  },
  {
   "cell_type": "code",
   "execution_count": null,
   "id": "5a86ac66-f015-40f7-8abf-835727cb7871",
   "metadata": {},
   "outputs": [],
   "source": []
  },
  {
   "cell_type": "code",
   "execution_count": null,
   "id": "be340f3e-2c8f-4104-a403-3038eef1b3e3",
   "metadata": {},
   "outputs": [],
   "source": []
  }
 ],
 "metadata": {
  "kernelspec": {
   "display_name": "Python 3 (ipykernel)",
   "language": "python",
   "name": "python3"
  },
  "language_info": {
   "codemirror_mode": {
    "name": "ipython",
    "version": 3
   },
   "file_extension": ".py",
   "mimetype": "text/x-python",
   "name": "python",
   "nbconvert_exporter": "python",
   "pygments_lexer": "ipython3",
   "version": "3.9.13"
  }
 },
 "nbformat": 4,
 "nbformat_minor": 5
}
{
 dataframe = pd.DataFrame.from_dict(all_ticker_metrics)
print(dataframe)
}
